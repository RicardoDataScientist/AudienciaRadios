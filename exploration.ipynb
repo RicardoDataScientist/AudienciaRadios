{
 "cells": [
  {
   "cell_type": "code",
   "execution_count": 2,
   "id": "417248cf",
   "metadata": {},
   "outputs": [],
   "source": [
    "import pandas as pd"
   ]
  },
  {
   "cell_type": "code",
   "execution_count": 7,
   "id": "701efc2a",
   "metadata": {},
   "outputs": [
    {
     "data": {
      "text/html": [
       "<div>\n",
       "<style scoped>\n",
       "    .dataframe tbody tr th:only-of-type {\n",
       "        vertical-align: middle;\n",
       "    }\n",
       "\n",
       "    .dataframe tbody tr th {\n",
       "        vertical-align: top;\n",
       "    }\n",
       "\n",
       "    .dataframe thead th {\n",
       "        text-align: right;\n",
       "    }\n",
       "</style>\n",
       "<table border=\"1\" class=\"dataframe\">\n",
       "  <thead>\n",
       "    <tr style=\"text-align: right;\">\n",
       "      <th></th>\n",
       "      <th>Período</th>\n",
       "      <th>GVI - ZONA CARIACICA + VIANA</th>\n",
       "      <th>GVI - ZONA GUARAPARI</th>\n",
       "      <th>GVI - ZONA SERRA</th>\n",
       "      <th>GVI - ZONA VILA VELHA</th>\n",
       "      <th>GVI - ZONA VITORIA</th>\n",
       "    </tr>\n",
       "  </thead>\n",
       "  <tbody>\n",
       "    <tr>\n",
       "      <th>153</th>\n",
       "      <td>GVI - AGO/2024 A OUT/2024</td>\n",
       "      <td>23601.32</td>\n",
       "      <td>6824.61</td>\n",
       "      <td>24436.26</td>\n",
       "      <td>29213.44</td>\n",
       "      <td>25822.95</td>\n",
       "    </tr>\n",
       "    <tr>\n",
       "      <th>154</th>\n",
       "      <td>GVI - SET/2024 A NOV/2024</td>\n",
       "      <td>24388.81</td>\n",
       "      <td>6876.91</td>\n",
       "      <td>24550.00</td>\n",
       "      <td>27971.09</td>\n",
       "      <td>25494.38</td>\n",
       "    </tr>\n",
       "    <tr>\n",
       "      <th>155</th>\n",
       "      <td>GVI - OUT/2024 A DEZ/2024</td>\n",
       "      <td>24310.54</td>\n",
       "      <td>7387.42</td>\n",
       "      <td>25220.37</td>\n",
       "      <td>30481.84</td>\n",
       "      <td>25863.14</td>\n",
       "    </tr>\n",
       "    <tr>\n",
       "      <th>156</th>\n",
       "      <td>GVI - NOV/2024 A JAN/2025</td>\n",
       "      <td>26353.97</td>\n",
       "      <td>6989.66</td>\n",
       "      <td>26330.26</td>\n",
       "      <td>29132.55</td>\n",
       "      <td>25835.32</td>\n",
       "    </tr>\n",
       "    <tr>\n",
       "      <th>157</th>\n",
       "      <td>GVI - DEZ/2024 A FEV/2025</td>\n",
       "      <td>24914.25</td>\n",
       "      <td>7623.59</td>\n",
       "      <td>25759.44</td>\n",
       "      <td>30024.64</td>\n",
       "      <td>27184.76</td>\n",
       "    </tr>\n",
       "  </tbody>\n",
       "</table>\n",
       "</div>"
      ],
      "text/plain": [
       "                       Período  GVI - ZONA CARIACICA + VIANA  \\\n",
       "153  GVI - AGO/2024 A OUT/2024                      23601.32   \n",
       "154  GVI - SET/2024 A NOV/2024                      24388.81   \n",
       "155  GVI - OUT/2024 A DEZ/2024                      24310.54   \n",
       "156  GVI - NOV/2024 A JAN/2025                      26353.97   \n",
       "157  GVI - DEZ/2024 A FEV/2025                      24914.25   \n",
       "\n",
       "     GVI - ZONA GUARAPARI  GVI - ZONA SERRA  GVI - ZONA VILA VELHA  \\\n",
       "153               6824.61          24436.26               29213.44   \n",
       "154               6876.91          24550.00               27971.09   \n",
       "155               7387.42          25220.37               30481.84   \n",
       "156               6989.66          26330.26               29132.55   \n",
       "157               7623.59          25759.44               30024.64   \n",
       "\n",
       "     GVI - ZONA VITORIA  \n",
       "153            25822.95  \n",
       "154            25494.38  \n",
       "155            25863.14  \n",
       "156            25835.32  \n",
       "157            27184.76  "
      ]
     },
     "execution_count": 7,
     "metadata": {},
     "output_type": "execute_result"
    }
   ],
   "source": [
    "df = pd.read_excel('dados\\Instar.xlsx')\n",
    "df.tail()"
   ]
  }
 ],
 "metadata": {
  "kernelspec": {
   "display_name": ".venv (3.10.11)",
   "language": "python",
   "name": "python3"
  },
  "language_info": {
   "codemirror_mode": {
    "name": "ipython",
    "version": 3
   },
   "file_extension": ".py",
   "mimetype": "text/x-python",
   "name": "python",
   "nbconvert_exporter": "python",
   "pygments_lexer": "ipython3",
   "version": "3.10.11"
  }
 },
 "nbformat": 4,
 "nbformat_minor": 5
}
